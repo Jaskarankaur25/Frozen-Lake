{
  "cells": [
    {
      "cell_type": "code",
      "execution_count": null,
      "metadata": {
        "colab": {
          "base_uri": "https://localhost:8080/"
        },
        "id": "UWACaIOhvMkV",
        "outputId": "19008bad-441e-4544-cb40-5995dd2dd609"
      },
      "outputs": [
        {
          "name": "stdout",
          "output_type": "stream",
          "text": [
            "Collecting gymnasium\n",
            "  Downloading gymnasium-0.29.1-py3-none-any.whl.metadata (10 kB)\n",
            "Requirement already satisfied: numpy>=1.21.0 in /usr/local/lib/python3.10/dist-packages (from gymnasium) (1.26.4)\n",
            "Requirement already satisfied: cloudpickle>=1.2.0 in /usr/local/lib/python3.10/dist-packages (from gymnasium) (2.2.1)\n",
            "Requirement already satisfied: typing-extensions>=4.3.0 in /usr/local/lib/python3.10/dist-packages (from gymnasium) (4.12.2)\n",
            "Collecting farama-notifications>=0.0.1 (from gymnasium)\n",
            "  Downloading Farama_Notifications-0.0.4-py3-none-any.whl.metadata (558 bytes)\n",
            "Downloading gymnasium-0.29.1-py3-none-any.whl (953 kB)\n",
            "\u001b[2K   \u001b[90m━━━━━━━━━━━━━━━━━━━━━━━━━━━━━━━━━━━━━━━━\u001b[0m \u001b[32m953.9/953.9 kB\u001b[0m \u001b[31m7.0 MB/s\u001b[0m eta \u001b[36m0:00:00\u001b[0m\n",
            "\u001b[?25hDownloading Farama_Notifications-0.0.4-py3-none-any.whl (2.5 kB)\n",
            "Installing collected packages: farama-notifications, gymnasium\n",
            "Successfully installed farama-notifications-0.0.4 gymnasium-0.29.1\n"
          ]
        }
      ],
      "source": [
        "!pip install gymnasium"
      ]
    },
    {
      "cell_type": "code",
      "execution_count": null,
      "metadata": {
        "id": "7l1E_pN0vgLM"
      },
      "outputs": [],
      "source": [
        "#Making the environment\n",
        "import gymnasium as gym #alias\n",
        "env = gym.make('FrozenLake-v1', desc=None, map_name=\"8x8\", is_slippery=True,render_mode=\"rgb_array\") #for rendering inside the notebook display, use render_mode =\"ansi\""
      ]
    },
    {
      "cell_type": "code",
      "execution_count": null,
      "metadata": {
        "id": "3017HXV7vpCB"
      },
      "outputs": [],
      "source": [
        "#How to make your own\n",
        "#desc=[\"SFFFFFFF\",\"FFFFFFFF\",\"FFFHFFFF\",\"FFFFFHFF\",\"FFFHFFFF\"FHHFFFHF\",\"FHFFHFHF\",\"FFFHFFFG\"]"
      ]
    },
    {
      "cell_type": "code",
      "execution_count": null,
      "metadata": {
        "id": "bEI_QT0_w8IZ"
      },
      "outputs": [],
      "source": [
        "#Number of states and actions\n",
        "n_observations = env.observation_space.n #States\n",
        "n_actions = env.action_space.n           #Action"
      ]
    },
    {
      "cell_type": "code",
      "execution_count": null,
      "metadata": {
        "colab": {
          "base_uri": "https://localhost:8080/"
        },
        "id": "xpNtqO4wxHjK",
        "outputId": "4c556247-62d8-49b7-a948-3b448706aec6"
      },
      "outputs": [
        {
          "name": "stdout",
          "output_type": "stream",
          "text": [
            "Range of rewards (0, 1)\n"
          ]
        }
      ],
      "source": [
        "n_rewards= env.reward_range\n",
        "print(\"Range of rewards\",n_rewards)"
      ]
    },
    {
      "cell_type": "code",
      "execution_count": null,
      "metadata": {
        "colab": {
          "base_uri": "https://localhost:8080/"
        },
        "id": "C4cT0P1PxNoc",
        "outputId": "04e33b74-63d2-4d46-c4f8-740bf7dfe89f"
      },
      "outputs": [
        {
          "name": "stdout",
          "output_type": "stream",
          "text": [
            "Number of States 64\n",
            "Number of possible actions 4\n"
          ]
        }
      ],
      "source": [
        "print('Number of States',n_observations)\n",
        "print('Number of possible actions',n_actions)"
      ]
    },
    {
      "cell_type": "code",
      "execution_count": null,
      "metadata": {
        "colab": {
          "base_uri": "https://localhost:8080/"
        },
        "id": "mbRo0XlDxVYr",
        "outputId": "fb880ed3-e809-42fd-c577-89055b516a48"
      },
      "outputs": [
        {
          "name": "stdout",
          "output_type": "stream",
          "text": [
            "[[0. 0. 0. 0.]\n",
            " [0. 0. 0. 0.]\n",
            " [0. 0. 0. 0.]\n",
            " [0. 0. 0. 0.]\n",
            " [0. 0. 0. 0.]\n",
            " [0. 0. 0. 0.]\n",
            " [0. 0. 0. 0.]\n",
            " [0. 0. 0. 0.]\n",
            " [0. 0. 0. 0.]\n",
            " [0. 0. 0. 0.]\n",
            " [0. 0. 0. 0.]\n",
            " [0. 0. 0. 0.]\n",
            " [0. 0. 0. 0.]\n",
            " [0. 0. 0. 0.]\n",
            " [0. 0. 0. 0.]\n",
            " [0. 0. 0. 0.]\n",
            " [0. 0. 0. 0.]\n",
            " [0. 0. 0. 0.]\n",
            " [0. 0. 0. 0.]\n",
            " [0. 0. 0. 0.]\n",
            " [0. 0. 0. 0.]\n",
            " [0. 0. 0. 0.]\n",
            " [0. 0. 0. 0.]\n",
            " [0. 0. 0. 0.]\n",
            " [0. 0. 0. 0.]\n",
            " [0. 0. 0. 0.]\n",
            " [0. 0. 0. 0.]\n",
            " [0. 0. 0. 0.]\n",
            " [0. 0. 0. 0.]\n",
            " [0. 0. 0. 0.]\n",
            " [0. 0. 0. 0.]\n",
            " [0. 0. 0. 0.]\n",
            " [0. 0. 0. 0.]\n",
            " [0. 0. 0. 0.]\n",
            " [0. 0. 0. 0.]\n",
            " [0. 0. 0. 0.]\n",
            " [0. 0. 0. 0.]\n",
            " [0. 0. 0. 0.]\n",
            " [0. 0. 0. 0.]\n",
            " [0. 0. 0. 0.]\n",
            " [0. 0. 0. 0.]\n",
            " [0. 0. 0. 0.]\n",
            " [0. 0. 0. 0.]\n",
            " [0. 0. 0. 0.]\n",
            " [0. 0. 0. 0.]\n",
            " [0. 0. 0. 0.]\n",
            " [0. 0. 0. 0.]\n",
            " [0. 0. 0. 0.]\n",
            " [0. 0. 0. 0.]\n",
            " [0. 0. 0. 0.]\n",
            " [0. 0. 0. 0.]\n",
            " [0. 0. 0. 0.]\n",
            " [0. 0. 0. 0.]\n",
            " [0. 0. 0. 0.]\n",
            " [0. 0. 0. 0.]\n",
            " [0. 0. 0. 0.]\n",
            " [0. 0. 0. 0.]\n",
            " [0. 0. 0. 0.]\n",
            " [0. 0. 0. 0.]\n",
            " [0. 0. 0. 0.]\n",
            " [0. 0. 0. 0.]\n",
            " [0. 0. 0. 0.]\n",
            " [0. 0. 0. 0.]\n",
            " [0. 0. 0. 0.]]\n"
          ]
        }
      ],
      "source": [
        "#Initialize the Q-table to 0\n",
        "import numpy as np\n",
        "Q_table = np.zeros((n_observations,n_actions))\n",
        "print(Q_table)"
      ]
    },
    {
      "cell_type": "code",
      "execution_count": null,
      "metadata": {
        "colab": {
          "base_uri": "https://localhost:8080/"
        },
        "id": "Nho4iSFLxZni",
        "outputId": "bcbe74f4-0bb0-40e1-bbfc-0cdb114f6647"
      },
      "outputs": [
        {
          "data": {
            "text/plain": [
              "(64, 4)"
            ]
          },
          "execution_count": 8,
          "metadata": {},
          "output_type": "execute_result"
        }
      ],
      "source": [
        "Q_table.shape #64 States with 4 actions each"
      ]
    },
    {
      "cell_type": "code",
      "execution_count": null,
      "metadata": {
        "colab": {
          "base_uri": "https://localhost:8080/"
        },
        "id": "n0xrmKITxxTX",
        "outputId": "8abd2add-835e-4cf7-f121-3d9776450381"
      },
      "outputs": [
        {
          "data": {
            "text/plain": [
              "array([0., 0., 0., 0.])"
            ]
          },
          "execution_count": 9,
          "metadata": {},
          "output_type": "execute_result"
        }
      ],
      "source": [
        "Q_table[11,:] #Q-values for State 12"
      ]
    },
    {
      "cell_type": "code",
      "execution_count": null,
      "metadata": {
        "id": "HeH0bWm7x9Io"
      },
      "outputs": [],
      "source": [
        "#Initialising variables for the process\n",
        "#number of episode we will run\n",
        "n_episodes = 20000\n",
        "\n",
        "#maximum of iteration per episode- Or number of steps per episode\n",
        "steps_allowed = 120\n",
        "\n",
        "#initialize the exploration probability to 1\n",
        "epsilon = 1\n",
        "\n",
        "#exploartion decay rate for exponential decreasing\n",
        "decay_rate = 0.001\n",
        "\n",
        "# minimum of exploration proba\n",
        "min_epsilon = 0.01\n",
        "\n",
        "#max exploration rate\n",
        "max_epsilon=1\n",
        "\n",
        "#discounted factor\n",
        "gamma = 0.99\n",
        "\n",
        "#learning rate\n",
        "lr = 0.1"
      ]
    },
    {
      "cell_type": "code",
      "execution_count": null,
      "metadata": {
        "id": "avMsFIGwyNs4"
      },
      "outputs": [],
      "source": [
        "#Storing rewards after each episode in a list\n",
        "rewards_per_episode = list()"
      ]
    },
    {
      "cell_type": "code",
      "execution_count": null,
      "metadata": {
        "colab": {
          "base_uri": "https://localhost:8080/"
        },
        "id": "nMM5ufaAyR3y",
        "outputId": "ee206e87-c419-4c84-d342-7b1699f00e9a"
      },
      "outputs": [
        {
          "data": {
            "text/plain": [
              "3"
            ]
          },
          "execution_count": 12,
          "metadata": {},
          "output_type": "execute_result"
        }
      ],
      "source": [
        "env.action_space.sample()"
      ]
    },
    {
      "cell_type": "code",
      "execution_count": null,
      "metadata": {
        "id": "QYMRBDoWyT01"
      },
      "outputs": [],
      "source": [
        "#we iterate over episodes\n",
        "for e in range(n_episodes):   # loop over 20000 episode\n",
        "  #we initialize the first state of the episode\n",
        "  state = env.reset()[0]\n",
        "  done = False       #This will keep track of whether the episode has been completed\n",
        "\n",
        "  #sum the rewards that the agent gets from the environment\n",
        "  total_reward = 1\n",
        "\n",
        "  for step in range(steps_allowed):\n",
        "    if np.random.uniform(0,1) < epsilon:\n",
        "        action = env.action_space.sample()\n",
        "    else: #Exploit\n",
        "        action = np.argmax(Q_table[state,:])\n",
        "\n",
        "    # The environment runs the chosen action and returns\n",
        "    # the next state, a reward and true if the episode is ended.\n",
        "    next_state, reward, done, truncated, info = env.step(action)\n",
        "\n",
        "    # We update our Q-table using the Q-learning iteration\n",
        "    Q_table[state, action] = (1-lr) * Q_table[state, action] \\\n",
        "                       + lr*(reward + gamma* np.max(Q_table[next_state,:]))\n",
        "    total_reward = total_reward + reward\n",
        "\n",
        "    state = next_state\n",
        "    # If the episode is finished, we leave the for loop\n",
        "    if done:\n",
        "        break\n",
        "\n",
        "  #We update the exploration proba using exponential decay formula\n",
        "  epsilon = exploration_rate = min_epsilon + \\\n",
        "    (max_epsilon-min_epsilon) * np.exp(-decay_rate*e)\n",
        "  rewards_per_episode.append(total_reward)"
      ]
    },
    {
      "cell_type": "code",
      "execution_count": null,
      "metadata": {
        "colab": {
          "base_uri": "https://localhost:8080/"
        },
        "id": "foSE7C1uzpM0",
        "outputId": "6d138d5b-40f5-442a-8336-918e59f1e30b"
      },
      "outputs": [
        {
          "data": {
            "text/plain": [
              "20000"
            ]
          },
          "execution_count": 14,
          "metadata": {},
          "output_type": "execute_result"
        }
      ],
      "source": [
        "len(rewards_per_episode)"
      ]
    },
    {
      "cell_type": "code",
      "execution_count": null,
      "metadata": {
        "id": "yanBBzpLztuF"
      },
      "outputs": [],
      "source": [
        "rewards_per_thousand_episodes=np.split(np.array(rewards_per_episode),n_episodes/1000)"
      ]
    },
    {
      "cell_type": "code",
      "execution_count": null,
      "metadata": {
        "colab": {
          "base_uri": "https://localhost:8080/"
        },
        "id": "n_yqiE6cz1AO",
        "outputId": "38d172a2-a7e4-44de-93cc-5a1a294001c5"
      },
      "outputs": [
        {
          "name": "stdout",
          "output_type": "stream",
          "text": [
            "-----Average reward per Two thousand episodes-------\n",
            "3000 : 0.3333333333333354\n",
            "6000 : 0.3333333333333354\n",
            "9000 : 0.3333333333333354\n",
            "12000 : 0.3333333333333354\n",
            "15000 : 0.3333333333333354\n",
            "18000 : 0.3333333333333354\n",
            "21000 : 0.3333333333333354\n",
            "24000 : 0.3333333333333354\n",
            "27000 : 0.3333333333333354\n",
            "30000 : 0.3333333333333354\n",
            "33000 : 0.3333333333333354\n",
            "36000 : 0.3333333333333354\n",
            "39000 : 0.3333333333333354\n",
            "42000 : 0.3333333333333354\n",
            "45000 : 0.3333333333333354\n",
            "48000 : 0.3333333333333354\n",
            "51000 : 0.3333333333333354\n",
            "54000 : 0.3333333333333354\n",
            "57000 : 0.3333333333333354\n",
            "60000 : 0.3333333333333354\n"
          ]
        }
      ],
      "source": [
        "count=3000\n",
        "print('-----Average reward per Two thousand episodes-------')\n",
        "for r in rewards_per_thousand_episodes:\n",
        "  print(count,':' ,str(sum(r/3000)))\n",
        "  count+=3000"
      ]
    },
    {
      "cell_type": "code",
      "execution_count": null,
      "metadata": {
        "colab": {
          "base_uri": "https://localhost:8080/"
        },
        "id": "E98IMKUl0KUc",
        "outputId": "6e757a85-3ef0-4ffb-dbd9-6a291eca579f"
      },
      "outputs": [
        {
          "name": "stdout",
          "output_type": "stream",
          "text": [
            "-----------Updated Q Table-----------\n",
            "[[0. 0. 0. 0.]\n",
            " [0. 0. 0. 0.]\n",
            " [0. 0. 0. 0.]\n",
            " [0. 0. 0. 0.]\n",
            " [0. 0. 0. 0.]\n",
            " [0. 0. 0. 0.]\n",
            " [0. 0. 0. 0.]\n",
            " [0. 0. 0. 0.]\n",
            " [0. 0. 0. 0.]\n",
            " [0. 0. 0. 0.]\n",
            " [0. 0. 0. 0.]\n",
            " [0. 0. 0. 0.]\n",
            " [0. 0. 0. 0.]\n",
            " [0. 0. 0. 0.]\n",
            " [0. 0. 0. 0.]\n",
            " [0. 0. 0. 0.]\n",
            " [0. 0. 0. 0.]\n",
            " [0. 0. 0. 0.]\n",
            " [0. 0. 0. 0.]\n",
            " [0. 0. 0. 0.]\n",
            " [0. 0. 0. 0.]\n",
            " [0. 0. 0. 0.]\n",
            " [0. 0. 0. 0.]\n",
            " [0. 0. 0. 0.]\n",
            " [0. 0. 0. 0.]\n",
            " [0. 0. 0. 0.]\n",
            " [0. 0. 0. 0.]\n",
            " [0. 0. 0. 0.]\n",
            " [0. 0. 0. 0.]\n",
            " [0. 0. 0. 0.]\n",
            " [0. 0. 0. 0.]\n",
            " [0. 0. 0. 0.]\n",
            " [0. 0. 0. 0.]\n",
            " [0. 0. 0. 0.]\n",
            " [0. 0. 0. 0.]\n",
            " [0. 0. 0. 0.]\n",
            " [0. 0. 0. 0.]\n",
            " [0. 0. 0. 0.]\n",
            " [0. 0. 0. 0.]\n",
            " [0. 0. 0. 0.]\n",
            " [0. 0. 0. 0.]\n",
            " [0. 0. 0. 0.]\n",
            " [0. 0. 0. 0.]\n",
            " [0. 0. 0. 0.]\n",
            " [0. 0. 0. 0.]\n",
            " [0. 0. 0. 0.]\n",
            " [0. 0. 0. 0.]\n",
            " [0. 0. 0. 0.]\n",
            " [0. 0. 0. 0.]\n",
            " [0. 0. 0. 0.]\n",
            " [0. 0. 0. 0.]\n",
            " [0. 0. 0. 0.]\n",
            " [0. 0. 0. 0.]\n",
            " [0. 0. 0. 0.]\n",
            " [0. 0. 0. 0.]\n",
            " [0. 0. 0. 0.]\n",
            " [0. 0. 0. 0.]\n",
            " [0. 0. 0. 0.]\n",
            " [0. 0. 0. 0.]\n",
            " [0. 0. 0. 0.]\n",
            " [0. 0. 0. 0.]\n",
            " [0. 0. 0. 0.]\n",
            " [0. 0. 0. 0.]\n",
            " [0. 0. 0. 0.]]\n"
          ]
        }
      ],
      "source": [
        "print('-----------Updated Q Table-----------')\n",
        "print(Q_table)"
      ]
    },
    {
      "cell_type": "code",
      "execution_count": null,
      "metadata": {
        "id": "7QweeWKG0Umo"
      },
      "outputs": [],
      "source": [
        "import time\n",
        "from IPython.display import clear_output"
      ]
    },
    {
      "cell_type": "code",
      "execution_count": null,
      "metadata": {
        "colab": {
          "base_uri": "https://localhost:8080/"
        },
        "id": "T3uPGAOG0cql",
        "outputId": "e8f42d80-1371-49d2-be1e-10adc4dfba6f"
      },
      "outputs": [
        {
          "name": "stdout",
          "output_type": "stream",
          "text": [
            "[[[180 200 230]\n",
            "  [180 200 230]\n",
            "  [180 200 230]\n",
            "  ...\n",
            "  [180 200 230]\n",
            "  [180 200 230]\n",
            "  [180 200 230]]\n",
            "\n",
            " [[180 200 230]\n",
            "  [204 230 255]\n",
            "  [204 230 255]\n",
            "  ...\n",
            "  [204 230 255]\n",
            "  [204 230 255]\n",
            "  [180 200 230]]\n",
            "\n",
            " [[180 200 230]\n",
            "  [235 245 249]\n",
            "  [204 230 255]\n",
            "  ...\n",
            "  [204 230 255]\n",
            "  [204 230 255]\n",
            "  [180 200 230]]\n",
            "\n",
            " ...\n",
            "\n",
            " [[180 200 230]\n",
            "  [235 245 249]\n",
            "  [235 245 249]\n",
            "  ...\n",
            "  [204 230 255]\n",
            "  [235 245 249]\n",
            "  [180 200 230]]\n",
            "\n",
            " [[180 200 230]\n",
            "  [235 245 249]\n",
            "  [235 245 249]\n",
            "  ...\n",
            "  [204 230 255]\n",
            "  [204 230 255]\n",
            "  [180 200 230]]\n",
            "\n",
            " [[180 200 230]\n",
            "  [180 200 230]\n",
            "  [180 200 230]\n",
            "  ...\n",
            "  [180 200 230]\n",
            "  [180 200 230]\n",
            "  [180 200 230]]]\n"
          ]
        }
      ],
      "source": [
        "#Visualising the game\n",
        "for episode in range(4):\n",
        "  state=env.reset()[0]\n",
        "  done=False\n",
        "  print('----------EPISODE:',episode+1,'---------\\n\\n\\n\\n')\n",
        "  time.sleep(0.4)\n",
        "\n",
        "  for step in range(steps_allowed):\n",
        "    clear_output(wait=True)\n",
        "    print(env.render())\n",
        "    time.sleep(0.6)\n",
        "\n",
        "    action = np.argmax(Q_table[state,:])\n",
        "    new_state, reward, done, truncated, info = env.step(action)\n",
        "\n",
        "    if done:\n",
        "      clear_output(wait=True)\n",
        "      print(env.render())\n",
        "      if reward == 2:\n",
        "          print(\"****You reached the goal!****\")\n",
        "          time.sleep(4)\n",
        "      else:\n",
        "          print(\"****You fell through a hole!****\")\n",
        "          time.sleep(4)\n",
        "      clear_output(wait=True)\n",
        "      break\n",
        "\n",
        "    state=new_state\n",
        "\n",
        "env.close()"
      ]
    },
    {
      "cell_type": "code",
      "execution_count": null,
      "metadata": {
        "colab": {
          "background_save": true,
          "base_uri": "https://localhost:8080/"
        },
        "id": "lqX2De581lKX",
        "outputId": "0ad1f68f-cf71-405f-8264-5a6288570b99"
      },
      "outputs": [
        {
          "name": "stdout",
          "output_type": "stream",
          "text": [
            "Requirement already satisfied: comet_ml in /usr/local/lib/python3.10/dist-packages (3.45.0)\n",
            "Requirement already satisfied: gymnasium[classic_control] in /usr/local/lib/python3.10/dist-packages (0.29.1)\n",
            "Requirement already satisfied: numpy>=1.21.0 in /usr/local/lib/python3.10/dist-packages (from gymnasium[classic_control]) (1.26.4)\n",
            "Requirement already satisfied: cloudpickle>=1.2.0 in /usr/local/lib/python3.10/dist-packages (from gymnasium[classic_control]) (2.2.1)\n",
            "Requirement already satisfied: typing-extensions>=4.3.0 in /usr/local/lib/python3.10/dist-packages (from gymnasium[classic_control]) (4.12.2)\n",
            "Requirement already satisfied: farama-notifications>=0.0.1 in /usr/local/lib/python3.10/dist-packages (from gymnasium[classic_control]) (0.0.4)\n",
            "Requirement already satisfied: pygame>=2.1.3 in /usr/local/lib/python3.10/dist-packages (from gymnasium[classic_control]) (2.6.0)\n",
            "Requirement already satisfied: everett<3.2.0,>=1.0.1 in /usr/local/lib/python3.10/dist-packages (from everett[ini]<3.2.0,>=1.0.1->comet_ml) (3.1.0)\n",
            "Requirement already satisfied: jsonschema!=3.1.0,>=2.6.0 in /usr/local/lib/python3.10/dist-packages (from comet_ml) (4.23.0)\n",
            "Requirement already satisfied: psutil>=5.6.3 in /usr/local/lib/python3.10/dist-packages (from comet_ml) (5.9.5)\n",
            "Requirement already satisfied: python-box<7.0.0 in /usr/local/lib/python3.10/dist-packages (from comet_ml) (6.1.0)\n",
            "Requirement already satisfied: requests-toolbelt>=0.8.0 in /usr/local/lib/python3.10/dist-packages (from comet_ml) (1.0.0)\n",
            "Requirement already satisfied: requests>=2.18.4 in /usr/local/lib/python3.10/dist-packages (from comet_ml) (2.32.3)\n",
            "Requirement already satisfied: semantic-version>=2.8.0 in /usr/local/lib/python3.10/dist-packages (from comet_ml) (2.10.0)\n",
            "Requirement already satisfied: sentry-sdk>=1.1.0 in /usr/local/lib/python3.10/dist-packages (from comet_ml) (2.13.0)\n",
            "Requirement already satisfied: simplejson in /usr/local/lib/python3.10/dist-packages (from comet_ml) (3.19.3)\n",
            "Requirement already satisfied: urllib3>=1.21.1 in /usr/local/lib/python3.10/dist-packages (from comet_ml) (2.0.7)\n",
            "Requirement already satisfied: wrapt>=1.11.2 in /usr/local/lib/python3.10/dist-packages (from comet_ml) (1.16.0)\n",
            "Requirement already satisfied: wurlitzer>=1.0.2 in /usr/local/lib/python3.10/dist-packages (from comet_ml) (3.1.1)\n",
            "Requirement already satisfied: dulwich!=0.20.33,>=0.20.6 in /usr/local/lib/python3.10/dist-packages (from comet_ml) (0.22.1)\n",
            "Requirement already satisfied: rich>=13.3.2 in /usr/local/lib/python3.10/dist-packages (from comet_ml) (13.8.0)\n",
            "Requirement already satisfied: configobj in /usr/local/lib/python3.10/dist-packages (from everett[ini]<3.2.0,>=1.0.1->comet_ml) (5.0.8)\n",
            "Requirement already satisfied: attrs>=22.2.0 in /usr/local/lib/python3.10/dist-packages (from jsonschema!=3.1.0,>=2.6.0->comet_ml) (24.2.0)\n",
            "Requirement already satisfied: jsonschema-specifications>=2023.03.6 in /usr/local/lib/python3.10/dist-packages (from jsonschema!=3.1.0,>=2.6.0->comet_ml) (2023.12.1)\n",
            "Requirement already satisfied: referencing>=0.28.4 in /usr/local/lib/python3.10/dist-packages (from jsonschema!=3.1.0,>=2.6.0->comet_ml) (0.35.1)\n",
            "Requirement already satisfied: rpds-py>=0.7.1 in /usr/local/lib/python3.10/dist-packages (from jsonschema!=3.1.0,>=2.6.0->comet_ml) (0.20.0)\n",
            "Requirement already satisfied: charset-normalizer<4,>=2 in /usr/local/lib/python3.10/dist-packages (from requests>=2.18.4->comet_ml) (3.3.2)\n",
            "Requirement already satisfied: idna<4,>=2.5 in /usr/local/lib/python3.10/dist-packages (from requests>=2.18.4->comet_ml) (3.8)\n",
            "Requirement already satisfied: certifi>=2017.4.17 in /usr/local/lib/python3.10/dist-packages (from requests>=2.18.4->comet_ml) (2024.8.30)\n",
            "Requirement already satisfied: markdown-it-py>=2.2.0 in /usr/local/lib/python3.10/dist-packages (from rich>=13.3.2->comet_ml) (3.0.0)\n",
            "Requirement already satisfied: pygments<3.0.0,>=2.13.0 in /usr/local/lib/python3.10/dist-packages (from rich>=13.3.2->comet_ml) (2.16.1)\n",
            "Requirement already satisfied: mdurl~=0.1 in /usr/local/lib/python3.10/dist-packages (from markdown-it-py>=2.2.0->rich>=13.3.2->comet_ml) (0.1.2)\n",
            "Requirement already satisfied: six in /usr/local/lib/python3.10/dist-packages (from configobj->everett[ini]<3.2.0,>=1.0.1->comet_ml) (1.16.0)\n"
          ]
        },
        {
          "name": "stderr",
          "output_type": "stream",
          "text": [
            "\u001b[1;38;5;214mCOMET WARNING:\u001b[0m comet_ml.init() is deprecated and will be removed soon. Please use comet_ml.login()\n"
          ]
        },
        {
          "name": "stdout",
          "output_type": "stream",
          "text": [
            "Please paste your Comet API key from https://www.comet.com/api/my/settings/\n",
            "(api key may not show as you type)\n"
          ]
        }
      ],
      "source": [
        "#Visualising in video\n",
        "%pip install gymnasium[classic_control] comet_ml\n",
        "import comet_ml\n",
        "comet_ml.init(project_name=\"frozen_lake\")\n",
        "env = gym.wrappers.RecordVideo(env, 'gameplay video')"
      ]
    },
    {
      "cell_type": "code",
      "execution_count": null,
      "metadata": {
        "id": "E6Pouyv5Rt1F"
      },
      "outputs": [],
      "source": [
        "#Visualising the game\n",
        "for episode in range(4):\n",
        "  state=env.reset()[0]\n",
        "  done=False\n",
        "  print('----------EPISODE:',episode+1,'---------\\n\\n\\n\\n')\n",
        "  time.sleep(0.5)\n",
        "\n",
        "  for step in range(steps_allowed):\n",
        "    clear_output(wait=True)\n",
        "    print(env.render())\n",
        "    time.sleep(0.5)\n",
        "\n",
        "    action = np.argmax(Q_table[state,:])\n",
        "    new_state, reward, done, truncated, info = env.step(action)\n",
        "\n",
        "    if done:\n",
        "      clear_output(wait=True)\n",
        "      print(env.render())\n",
        "      if reward == 1:\n",
        "          print(\"****You reached the goal!****\")\n",
        "          time.sleep(4)\n",
        "      else:\n",
        "          print(\"****You fell through a hole!****\")\n",
        "          time.sleep(4)\n",
        "      clear_output(wait=True)\n",
        "      break\n",
        "\n",
        "    state=new_state\n",
        "\n",
        "env.close()"
      ]
    }
  ],
  "metadata": {
    "colab": {
      "provenance": []
    },
    "kernelspec": {
      "display_name": "Python 3",
      "name": "python3"
    },
    "language_info": {
      "name": "python"
    }
  },
  "nbformat": 4,
  "nbformat_minor": 0
}